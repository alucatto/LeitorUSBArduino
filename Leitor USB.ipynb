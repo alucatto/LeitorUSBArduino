{
 "cells": [
  {
   "cell_type": "markdown",
   "id": "dd881d4e",
   "metadata": {},
   "source": [
    "# Configuração inicial"
   ]
  },
  {
   "cell_type": "markdown",
   "id": "8260edea",
   "metadata": {},
   "source": [
    "### Instalação de bibliotecas"
   ]
  },
  {
   "cell_type": "code",
   "execution_count": 2,
   "id": "bc8b1c6e",
   "metadata": {
    "scrolled": true
   },
   "outputs": [
    {
     "name": "stdout",
     "output_type": "stream",
     "text": [
      "Collecting pyserial\n",
      "  Downloading pyserial-3.5-py2.py3-none-any.whl (90 kB)\n",
      "Installing collected packages: pyserial\n",
      "Successfully installed pyserial-3.5\n"
     ]
    },
    {
     "name": "stderr",
     "output_type": "stream",
     "text": [
      "WARNING: You are using pip version 21.2.4; however, version 22.0.3 is available.\n",
      "You should consider upgrading via the 'C:\\Users\\Amanda\\AppData\\Local\\Programs\\Python\\Python310\\python.exe -m pip install --upgrade pip' command.\n"
     ]
    }
   ],
   "source": [
    "!pip install pyserial"
   ]
  },
  {
   "cell_type": "markdown",
   "id": "a8825b22",
   "metadata": {},
   "source": [
    "### Importação de bibliotecas"
   ]
  },
  {
   "cell_type": "code",
   "execution_count": 2,
   "id": "9b611d73",
   "metadata": {
    "scrolled": true
   },
   "outputs": [],
   "source": [
    "import serial\n",
    "import serial.tools.list_ports\n",
    "import time\n",
    "import csv"
   ]
  },
  {
   "cell_type": "markdown",
   "id": "01c8efbc",
   "metadata": {},
   "source": [
    "### Definição de Constantes\n",
    "\n",
    "Códigos entre o Arduino e o computador:"
   ]
  },
  {
   "cell_type": "code",
   "execution_count": 14,
   "id": "ab2cbf7c",
   "metadata": {},
   "outputs": [],
   "source": [
    "HANDSHAKE = 0\n",
    "VOLTAGE_REQUEST = 1;\n",
    "ON_REQUEST = 2;\n",
    "STREAM = 3;"
   ]
  },
  {
   "cell_type": "markdown",
   "id": "539d3667",
   "metadata": {},
   "source": [
    "Constantes de configuração"
   ]
  },
  {
   "cell_type": "code",
   "execution_count": 44,
   "id": "0a38c8d3",
   "metadata": {},
   "outputs": [],
   "source": [
    "N = 10 #Número de pontos coletados"
   ]
  },
  {
   "cell_type": "markdown",
   "id": "84afcbdf",
   "metadata": {},
   "source": [
    "### Funções"
   ]
  },
  {
   "cell_type": "markdown",
   "id": "d3207183",
   "metadata": {},
   "source": [
    "#### Handshake entre o computador e o Arduino"
   ]
  },
  {
   "cell_type": "code",
   "execution_count": 10,
   "id": "0aa42af2",
   "metadata": {},
   "outputs": [],
   "source": [
    "def handshake_arduino(arduino, sleep_time=1, print_handshake_message=False, handshake_code=0):\n",
    "    \"\"\"Make sure connection is established by sending and receiving bytes.\"\"\"\n",
    "    # Close and reopen\n",
    "    arduino.close()\n",
    "    arduino.open()\n",
    "\n",
    "    # Chill out while everything gets set\n",
    "    time.sleep(sleep_time)\n",
    "\n",
    "    # Set a long timeout to complete handshake\n",
    "    timeout = arduino.timeout\n",
    "    arduino.timeout = 2\n",
    "\n",
    "    # Read and discard everything that may be in the input buffer\n",
    "    _ = arduino.read_all()\n",
    "\n",
    "    # Send request to Arduino\n",
    "    arduino.write(bytes([handshake_code]))\n",
    "\n",
    "    # Read in what Arduino sent\n",
    "    handshake_message = arduino.read_until()\n",
    "\n",
    "    # Send and receive request again\n",
    "    arduino.write(bytes([handshake_code]))\n",
    "    handshake_message = arduino.read_until()\n",
    "\n",
    "    # Print the handshake message, if desired\n",
    "    if print_handshake_message:\n",
    "        print(\"Handshake message: \" + handshake_message.decode())\n",
    "\n",
    "    # Reset the timeout\n",
    "    arduino.timeout = timeout"
   ]
  },
  {
   "cell_type": "markdown",
   "id": "fb657a4b",
   "metadata": {},
   "source": [
    "#### Converter byte em número\n",
    "\n",
    "To convert the byte string to numbers, we need to strip the carriage return and newline and decode the byte string into the Python strings we are used to using the decode() method. Finally, we can split the resulting string at the comma to get the voltage and time point for each.\n",
    "\n",
    "Arduino values from analog inputs are 10 bit unsigned integers, with values ranging from 0 to 1023. So, when the voltage is written out, it will be an integer, which we need to convert to a voltage, knowing that the voltage on the Arduino Uno goes from zero to five volts. The time stamps are in milliseconds, transmitted as 32-bit unsigned integers. So, we should convert the voltage number we receive to Volts. The function below parses a byte string sent from Arduino."
   ]
  },
  {
   "cell_type": "markdown",
   "id": "5c8a9ce6",
   "metadata": {},
   "source": [
    "#### Converter byte em número"
   ]
  },
  {
   "cell_type": "code",
   "execution_count": 21,
   "id": "c5833d35",
   "metadata": {},
   "outputs": [],
   "source": [
    "def parse_raw(raw):\n",
    "    \"\"\"Parse bytes output from Arduino.\"\"\"\n",
    "    raw = raw.decode()\n",
    "    if raw[-1] != \"\\n\":\n",
    "        raise ValueError(\n",
    "            \"Input must end with newline, otherwise message is incomplete.\"\n",
    "        )\n",
    "\n",
    "    t, periodo, V = raw.rstrip().split(\",\")\n",
    "\n",
    "    return int(t), int(periodo), int(V) * 5 / 1023"
   ]
  },
  {
   "cell_type": "markdown",
   "id": "cd8bd13b",
   "metadata": {},
   "source": [
    "#### Solicita a leitura do Arduino\n",
    "\n",
    "Solicita a leitura de um único ponto:"
   ]
  },
  {
   "cell_type": "code",
   "execution_count": 18,
   "id": "556e758f",
   "metadata": {},
   "outputs": [],
   "source": [
    "def request_single_voltage(arduino):\n",
    "    \"\"\"Ask Arduino for a single data point\"\"\"\n",
    "    # Ask Arduino for data\n",
    "    arduino.write(bytes([VOLTAGE_REQUEST]))\n",
    "\n",
    "    # Read in the data\n",
    "    raw = arduino.read_until()\n",
    "\n",
    "    # Parse and return\n",
    "    return parse_raw(raw)"
   ]
  },
  {
   "cell_type": "markdown",
   "id": "401d11b6",
   "metadata": {},
   "source": [
    "# Identificação da porta serial"
   ]
  },
  {
   "cell_type": "markdown",
   "id": "5193f33b",
   "metadata": {},
   "source": [
    "Lista de portas abertas"
   ]
  },
  {
   "cell_type": "code",
   "execution_count": 6,
   "id": "b04186b0",
   "metadata": {
    "scrolled": true
   },
   "outputs": [
    {
     "data": {
      "text/plain": [
       "[<serial.tools.list_ports_common.ListPortInfo at 0x24652dba1a0>]"
      ]
     },
     "execution_count": 6,
     "metadata": {},
     "output_type": "execute_result"
    }
   ],
   "source": [
    "ports = serial.tools.list_ports.comports()\n",
    "\n",
    "# Take a look\n",
    "ports"
   ]
  },
  {
   "cell_type": "markdown",
   "id": "1686627b",
   "metadata": {},
   "source": [
    "Identificação do dispositivo em cada porta"
   ]
  },
  {
   "cell_type": "code",
   "execution_count": 7,
   "id": "c7b8a60c",
   "metadata": {},
   "outputs": [
    {
     "data": {
      "text/plain": [
       "['Arduino LLC (www.arduino.cc)']"
      ]
     },
     "execution_count": 7,
     "metadata": {},
     "output_type": "execute_result"
    }
   ],
   "source": [
    "[port.manufacturer for port in ports]"
   ]
  },
  {
   "cell_type": "markdown",
   "id": "13220bb1",
   "metadata": {},
   "source": [
    "Descobre o string da porta associada"
   ]
  },
  {
   "cell_type": "code",
   "execution_count": 8,
   "id": "e665ebdc",
   "metadata": {},
   "outputs": [],
   "source": [
    "port = ports[0].device"
   ]
  },
  {
   "cell_type": "markdown",
   "id": "ca7e5049",
   "metadata": {},
   "source": [
    "OBSERVAÇÃO IMPORTANTE:\n",
    "\n",
    "When opening a connection with Python, you cannot have the Serial Monitor nor Serial Plotter of the Arduino IDE open, since they will keep the port busy and Python cannot communicate with Arduino.\n",
    "\n",
    "Ou seja: A IDE do arduino precisa estar fechada."
   ]
  },
  {
   "cell_type": "markdown",
   "id": "80361b77",
   "metadata": {},
   "source": [
    "# Leitura da porta serial"
   ]
  },
  {
   "cell_type": "markdown",
   "id": "a0e43d2a",
   "metadata": {},
   "source": [
    "Abrindo a porta serial e fazendo um handshake:"
   ]
  },
  {
   "cell_type": "code",
   "execution_count": 19,
   "id": "c42e530c",
   "metadata": {},
   "outputs": [
    {
     "name": "stdout",
     "output_type": "stream",
     "text": [
      "Handshake message: Handshake message received.\r\n",
      "\n"
     ]
    }
   ],
   "source": [
    "# Open port\n",
    "arduino = serial.Serial(port, baudrate=115200, timeout=1)\n",
    "\n",
    "# Call the handshake function\n",
    "handshake_arduino(arduino, print_handshake_message=True, handshake_code=HANDSHAKE)"
   ]
  },
  {
   "cell_type": "markdown",
   "id": "d1c6a770",
   "metadata": {},
   "source": [
    "Teste de leitura individual:"
   ]
  },
  {
   "cell_type": "code",
   "execution_count": 32,
   "id": "911c07e3",
   "metadata": {},
   "outputs": [
    {
     "data": {
      "text/plain": [
       "(879964, 68008, 1.4760508308895406)"
      ]
     },
     "execution_count": 32,
     "metadata": {},
     "output_type": "execute_result"
    }
   ],
   "source": [
    "request_single_voltage(arduino)"
   ]
  },
  {
   "cell_type": "markdown",
   "id": "013ba586",
   "metadata": {},
   "source": [
    "Coleta e criação de uma lista de pontos:"
   ]
  },
  {
   "cell_type": "code",
   "execution_count": 46,
   "id": "147d4593",
   "metadata": {},
   "outputs": [],
   "source": [
    "data = []\n",
    "\n",
    "for i in range (0,N):\n",
    "        linha = request_single_voltage(arduino)\n",
    "        data.append(linha)"
   ]
  },
  {
   "cell_type": "markdown",
   "id": "b61e8939",
   "metadata": {},
   "source": [
    "Visualização do resultado:"
   ]
  },
  {
   "cell_type": "code",
   "execution_count": 47,
   "id": "402833cb",
   "metadata": {},
   "outputs": [
    {
     "name": "stdout",
     "output_type": "stream",
     "text": [
      "time (ms)    Ts (ms)    voltage (V)\n",
      "(1559758, 36967, 1.4711632453567938)\n",
      "(1559766, 8, 1.466275659824047)\n",
      "(1559770, 4, 1.466275659824047)\n",
      "(1559774, 4, 1.466275659824047)\n",
      "(1559778, 4, 1.466275659824047)\n",
      "(1559782, 4, 1.4613880742913001)\n",
      "(1559786, 4, 1.4613880742913001)\n",
      "(1559790, 4, 1.4613880742913001)\n",
      "(1559794, 4, 1.4613880742913001)\n",
      "(1559798, 4, 1.4613880742913001)\n"
     ]
    }
   ],
   "source": [
    "print(\"time (ms)    Ts (ms)    voltage (V)\")\n",
    "\n",
    "for linha in data:\n",
    "    print(linha)"
   ]
  },
  {
   "cell_type": "code",
   "execution_count": 52,
   "id": "500aaa91",
   "metadata": {},
   "outputs": [
    {
     "name": "stdout",
     "output_type": "stream",
     "text": [
      "[(1559758, 36967, 1.4711632453567938), (1559766, 8, 1.466275659824047), (1559770, 4, 1.466275659824047), (1559774, 4, 1.466275659824047), (1559778, 4, 1.466275659824047), (1559782, 4, 1.4613880742913001), (1559786, 4, 1.4613880742913001), (1559790, 4, 1.4613880742913001), (1559794, 4, 1.4613880742913001), (1559798, 4, 1.4613880742913001)]\n"
     ]
    }
   ],
   "source": [
    "print(data)"
   ]
  },
  {
   "cell_type": "markdown",
   "id": "b5211c30",
   "metadata": {},
   "source": [
    "Salvando em um arquivo CSV:"
   ]
  },
  {
   "cell_type": "code",
   "execution_count": 55,
   "id": "49c53c90",
   "metadata": {},
   "outputs": [],
   "source": [
    "# opening the csv file in 'a+' mode\n",
    "file = open('ColetaUSB.csv', 'a+', newline ='')\n",
    "\n",
    "fields = [\"time (ms)\",\"Ts (ms)\",\"voltage (V)\"]\n",
    "\n",
    "# writing the data into the file\n",
    "with file:    \n",
    "    write = csv.writer(file)\n",
    "    write.writerow(fields)\n",
    "    write.writerows(data)"
   ]
  },
  {
   "cell_type": "markdown",
   "id": "d79b450b",
   "metadata": {},
   "source": [
    "Fechando a porta serial:"
   ]
  },
  {
   "cell_type": "code",
   "execution_count": 56,
   "id": "1c2a22b6",
   "metadata": {},
   "outputs": [],
   "source": [
    "arduino.close()"
   ]
  },
  {
   "cell_type": "markdown",
   "id": "28838f97",
   "metadata": {},
   "source": [
    "# Referências\n",
    "\n",
    "Leitura da porta serial:\n",
    "https://colab.research.google.com/github/justinbois/bootcamp/blob/gh-pages/2021/lessons/l40_serial.ipynb#scrollTo=dFvTZJJYkHXE\n",
    "\n",
    "Arquivo CSV:\n",
    "https://www.geeksforgeeks.org/writing-data-from-a-python-list-to-csv-row-wise/?ref=lbp"
   ]
  },
  {
   "cell_type": "code",
   "execution_count": null,
   "id": "97c22dd3",
   "metadata": {},
   "outputs": [],
   "source": []
  }
 ],
 "metadata": {
  "kernelspec": {
   "display_name": "Python 3 (ipykernel)",
   "language": "python",
   "name": "python3"
  },
  "language_info": {
   "codemirror_mode": {
    "name": "ipython",
    "version": 3
   },
   "file_extension": ".py",
   "mimetype": "text/x-python",
   "name": "python",
   "nbconvert_exporter": "python",
   "pygments_lexer": "ipython3",
   "version": "3.10.2"
  }
 },
 "nbformat": 4,
 "nbformat_minor": 5
}
